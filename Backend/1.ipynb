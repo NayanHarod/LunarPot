{
 "cells": [
  {
   "cell_type": "code",
   "execution_count": 4,
   "metadata": {},
   "outputs": [
    {
     "name": "stdout",
     "output_type": "stream",
     "text": [
      "Replacement complete. Data saved back to 'your_file.json'.\n"
     ]
    }
   ],
   "source": [
    "import json\n",
    "\n",
    "# Function to recursively replace \"Gemini\" with \"Voice Assistance\"\n",
    "def replace_gemini_with_voice_assistance(obj):\n",
    "    if isinstance(obj, dict):\n",
    "        return {replace_gemini_with_voice_assistance(k): replace_gemini_with_voice_assistance(v) for k, v in obj.items()}\n",
    "    elif isinstance(obj, list):\n",
    "        return [replace_gemini_with_voice_assistance(elem) for elem in obj]\n",
    "    elif isinstance(obj, str):\n",
    "        return obj.replace(\"Gemini\", \"Voice Assistance\")\n",
    "    else:\n",
    "        return obj\n",
    "\n",
    "# Open the JSON file\n",
    "with open('/home/multi-sy-22/Desktop/Lunarpot/frontend2/src/Component/rbj1.json', 'r') as file:\n",
    "    # Load JSON data\n",
    "    data = json.load(file)\n",
    "\n",
    "# Replace \"Gemini\" with \"Voice Assistance\"\n",
    "updated_data = replace_gemini_with_voice_assistance(data)\n",
    "\n",
    "# Save the updated data back to the same file\n",
    "with open('your_file.json', 'w') as file:\n",
    "    json.dump(updated_data, file, indent=2)\n",
    "\n",
    "print(\"Replacement complete. Data saved back to 'your_file.json'.\")\n"
   ]
  }
 ],
 "metadata": {
  "kernelspec": {
   "display_name": "Nenv123",
   "language": "python",
   "name": "python3"
  },
  "language_info": {
   "codemirror_mode": {
    "name": "ipython",
    "version": 3
   },
   "file_extension": ".py",
   "mimetype": "text/x-python",
   "name": "python",
   "nbconvert_exporter": "python",
   "pygments_lexer": "ipython3",
   "version": "3.10.8"
  }
 },
 "nbformat": 4,
 "nbformat_minor": 2
}
